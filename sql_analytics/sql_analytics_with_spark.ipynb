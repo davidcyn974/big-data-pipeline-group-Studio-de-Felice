{
 "cells": [
  {
   "cell_type": "code",
   "execution_count": 2,
   "metadata": {},
   "outputs": [],
   "source": [
    "import pandas as pd \n",
    "import pyspark"
   ]
  },
  {
   "cell_type": "code",
   "execution_count": 12,
   "metadata": {},
   "outputs": [
    {
     "name": "stdout",
     "output_type": "stream",
     "text": [
      "3.5.1\n",
      "+--------------------+--------------------+-----------+--------------+-----------------+-------------+--------------------+--------------------+------+--------+------------+\n",
      "|      transaction_id|           timestamp|customer_id| customer_name|             city|customer_type|        product_name|            category| price|quantity|total_amount|\n",
      "+--------------------+--------------------+-----------+--------------+-----------------+-------------+--------------------+--------------------+------+--------+------------+\n",
      "|TX_89a20095-f7be-...|2023-10-30 03:01:...|       6933|    David Hays|      New Sabrina|          B2C|Furniture Product_10|Home & Kitchen > ...|246.08|       4|      984.32|\n",
      "|TX_a6b15a50-47b9-...|2023-10-30 03:06:...|       9328| Adam Oconnell|East Katherineton|          B2C|Non-Fiction Produ...| Books > Non-Fiction| 792.3|       4|      3169.2|\n",
      "|TX_abdde2cb-3752-...|2023-10-30 03:06:...|       6766|   Jerry Brown|         Lukefort|          B2B|   Bedding Product_1|Home & Kitchen > ...|685.73|      40|     27429.2|\n",
      "|TX_ba162310-0807-...|2023-10-30 03:06:...|       9111|Craig Martinez|    South Leonard|          B2B|    Shoes Product_11|     Fashion > Shoes|404.96|      96|    38876.16|\n",
      "|TX_60ec44fd-2172-...|2023-10-30 03:08:...|       1763|    David Wood|      Jacksonstad|          B2B|Supplements Produ...|Health & Personal...|927.67|      35|    32468.45|\n",
      "+--------------------+--------------------+-----------+--------------+-----------------+-------------+--------------------+--------------------+------+--------+------------+\n",
      "only showing top 5 rows\n",
      "\n"
     ]
    }
   ],
   "source": [
    "### From official documentation\n",
    "# Import SparkSession\n",
    "from pyspark.sql import SparkSession\n",
    "\n",
    "# Create SparkSession \n",
    "spark = SparkSession.builder \\\n",
    "      .master(\"local[1]\") \\\n",
    "      .appName(\"my_pipeline\") \\\n",
    "      .config(\"spark.sql.repl.eagerEval.enabled\", True) \\\n",
    "      .getOrCreate()\n",
    "print(spark.version)\n",
    "\n",
    "\n",
    "# Load the dataset\n",
    "df = spark.read.csv(\"../ecommerce_data_with_trends.csv\", header=True, inferSchema=True)\n",
    "\n",
    "# Show the first 5 rows\n",
    "df.show(5)\n",
    "\n"
   ]
  },
  {
   "cell_type": "markdown",
   "metadata": {},
   "source": [
    "3. Creating a Temporary View\n",
    "Once you have your data in a DataFrame, you can create a temporary view to run SQL queries against it. A temporary view is a named view of a DataFrame that is accessible only within the current Spark session.\n",
    "\n",
    "To create a temporary view, use the createOrReplaceTempView method\n",
    "\n",
    "df.createOrReplaceTempView(\"sales_data\")"
   ]
  },
  {
   "cell_type": "code",
   "execution_count": 4,
   "metadata": {},
   "outputs": [],
   "source": [
    "df.createOrReplaceTempView(\"ecommerce_data\")"
   ]
  },
  {
   "cell_type": "code",
   "execution_count": 13,
   "metadata": {},
   "outputs": [
    {
     "name": "stdout",
     "output_type": "stream",
     "text": [
      "+--------------------+--------------------+-----------+--------------+-----------------+-------------+--------------------+--------------------+------+--------+------------+\n",
      "|      transaction_id|           timestamp|customer_id| customer_name|             city|customer_type|        product_name|            category| price|quantity|total_amount|\n",
      "+--------------------+--------------------+-----------+--------------+-----------------+-------------+--------------------+--------------------+------+--------+------------+\n",
      "|TX_89a20095-f7be-...|2023-10-30 03:01:...|       6933|    David Hays|      New Sabrina|          B2C|Furniture Product_10|Home & Kitchen > ...|246.08|       4|      984.32|\n",
      "|TX_a6b15a50-47b9-...|2023-10-30 03:06:...|       9328| Adam Oconnell|East Katherineton|          B2C|Non-Fiction Produ...| Books > Non-Fiction| 792.3|       4|      3169.2|\n",
      "|TX_abdde2cb-3752-...|2023-10-30 03:06:...|       6766|   Jerry Brown|         Lukefort|          B2B|   Bedding Product_1|Home & Kitchen > ...|685.73|      40|     27429.2|\n",
      "|TX_ba162310-0807-...|2023-10-30 03:06:...|       9111|Craig Martinez|    South Leonard|          B2B|    Shoes Product_11|     Fashion > Shoes|404.96|      96|    38876.16|\n",
      "|TX_60ec44fd-2172-...|2023-10-30 03:08:...|       1763|    David Wood|      Jacksonstad|          B2B|Supplements Produ...|Health & Personal...|927.67|      35|    32468.45|\n",
      "+--------------------+--------------------+-----------+--------------+-----------------+-------------+--------------------+--------------------+------+--------+------------+\n",
      "only showing top 5 rows\n",
      "\n"
     ]
    }
   ],
   "source": [
    "result = spark.sql(\"SELECT * FROM ecommerce_data\")\n",
    "result.show(5)"
   ]
  },
  {
   "cell_type": "markdown",
   "metadata": {},
   "source": [
    "- Finding top customers by total spend. \n",
    "- Analyzing purchase frequency by customer segment. \n",
    "- Identifying trends in product purchases over time."
   ]
  },
  {
   "cell_type": "markdown",
   "metadata": {},
   "source": [
    "### Finding top customers by total spend. \n",
    "Simple query that groups by customer_id and sums the total spend. "
   ]
  },
  {
   "cell_type": "code",
   "execution_count": 33,
   "metadata": {},
   "outputs": [
    {
     "name": "stdout",
     "output_type": "stream",
     "text": [
      "+-----------+------------------+---------------+-------------+----------------------+------------------+\n",
      "|customer_id|     customer_name|           city|customer_type|number_of_transactions|  total_orders_sum|\n",
      "+-----------+------------------+---------------+-------------+----------------------+------------------+\n",
      "|       3970|      Shannon Koch|     Oliviabury|          B2B|                   128|        4241408.29|\n",
      "|       4417|       Sharon Case|     West Laura|          B2B|                   133|        4167603.02|\n",
      "|        657|   Melissa Jackson|South Tracyland|          B2B|                   120| 4124347.750000001|\n",
      "|       9019|      Vanessa Meza|New Paulchester|          B2B|                   127|4084312.5299999993|\n",
      "|       7625|Caroline Blanchard|   Port Melissa|          B2B|                   123|4047170.2399999984|\n",
      "+-----------+------------------+---------------+-------------+----------------------+------------------+\n",
      "only showing top 5 rows\n",
      "\n"
     ]
    }
   ],
   "source": [
    "\n",
    "query = \"\"\"\n",
    "SELECT \n",
    "    customer_id,\n",
    "    customer_name, \n",
    "    city,\n",
    "    customer_type,\n",
    "    COUNT(*) AS number_of_transactions,\n",
    "    SUM(total_amount) AS total_orders_sum\n",
    "FROM ecommerce_data\n",
    "GROUP BY customer_id, customer_name, city, customer_type\n",
    "ORDER BY total_orders_sum DESC;\n",
    "\n",
    "\"\"\"\n",
    "\n",
    "result = spark.sql(query)\n",
    "result.show(5)"
   ]
  },
  {
   "cell_type": "markdown",
   "metadata": {},
   "source": [
    "### Analyzing purchase frequency by customer segment. \n",
    "Here we will group by customer segment and count the number of purchases.\\\n",
    "It corresponds to answering that question : \"how many transactions have they made during one month ?\".\n",
    "\n",
    "So for example if a customer_X has made 3 transactions in January, 2 in February and 4 in March,\\\n",
    "The result will be \n",
    "```\n",
    "customer_X\n",
    "3 -> January,\n",
    "2 -> February,\n",
    "4 -> March\n",
    "```\n",
    "\n",
    "If needed, the window of one month can be changed to a week or a year."
   ]
  },
  {
   "cell_type": "code",
   "execution_count": 43,
   "metadata": {},
   "outputs": [
    {
     "name": "stdout",
     "output_type": "stream",
     "text": [
      "123951\n",
      "+-----------+--------------------+-----------------+-------------+----------------------+-----+----+\n",
      "|customer_id|       customer_name|             city|customer_type|number_of_transactions|month|year|\n",
      "+-----------+--------------------+-----------------+-------------+----------------------+-----+----+\n",
      "|          1|    Kimberly Watkins|   Alexanderville|          B2B|                     4|   10|2023|\n",
      "|          1|    Kimberly Watkins|   Alexanderville|          B2B|                     7|   11|2023|\n",
      "|          1|    Kimberly Watkins|   Alexanderville|          B2B|                    11|   12|2023|\n",
      "|          1|    Kimberly Watkins|   Alexanderville|          B2B|                     9|    1|2024|\n",
      "|          1|    Kimberly Watkins|   Alexanderville|          B2B|                     4|    2|2024|\n",
      "|          1|    Kimberly Watkins|   Alexanderville|          B2B|                    16|    3|2024|\n",
      "|          1|    Kimberly Watkins|   Alexanderville|          B2B|                    11|    4|2024|\n",
      "|          1|    Kimberly Watkins|   Alexanderville|          B2B|                    10|    5|2024|\n",
      "|          1|    Kimberly Watkins|   Alexanderville|          B2B|                     3|    6|2024|\n",
      "|          1|    Kimberly Watkins|   Alexanderville|          B2B|                     7|    7|2024|\n",
      "|          1|    Kimberly Watkins|   Alexanderville|          B2B|                     8|    8|2024|\n",
      "|          1|    Kimberly Watkins|   Alexanderville|          B2B|                     7|    9|2024|\n",
      "|          1|    Kimberly Watkins|   Alexanderville|          B2B|                     7|   10|2024|\n",
      "|          4|Mrs. Ashley Matthews|     Lynchchester|          B2B|                     9|   11|2023|\n",
      "|          4|Mrs. Ashley Matthews|     Lynchchester|          B2B|                    17|   12|2023|\n",
      "|          4|Mrs. Ashley Matthews|     Lynchchester|          B2B|                     6|    1|2024|\n",
      "|          4|Mrs. Ashley Matthews|     Lynchchester|          B2B|                     7|    2|2024|\n",
      "|          4|Mrs. Ashley Matthews|     Lynchchester|          B2B|                     8|    3|2024|\n",
      "|          4|Mrs. Ashley Matthews|     Lynchchester|          B2B|                     7|    4|2024|\n",
      "|          4|Mrs. Ashley Matthews|     Lynchchester|          B2B|                     4|    5|2024|\n",
      "|          4|Mrs. Ashley Matthews|     Lynchchester|          B2B|                     6|    6|2024|\n",
      "|          4|Mrs. Ashley Matthews|     Lynchchester|          B2B|                     7|    7|2024|\n",
      "|          4|Mrs. Ashley Matthews|     Lynchchester|          B2B|                     7|    8|2024|\n",
      "|          4|Mrs. Ashley Matthews|     Lynchchester|          B2B|                     8|    9|2024|\n",
      "|          4|Mrs. Ashley Matthews|     Lynchchester|          B2B|                     7|   10|2024|\n",
      "|          7|         Ronnie Hood|Port Gabrielmouth|          B2B|                    13|   11|2023|\n",
      "|          7|         Ronnie Hood|Port Gabrielmouth|          B2B|                     7|   12|2023|\n",
      "|          7|         Ronnie Hood|Port Gabrielmouth|          B2B|                     5|    1|2024|\n",
      "|          7|         Ronnie Hood|Port Gabrielmouth|          B2B|                    12|    2|2024|\n",
      "|          7|         Ronnie Hood|Port Gabrielmouth|          B2B|                     9|    3|2024|\n",
      "|          7|         Ronnie Hood|Port Gabrielmouth|          B2B|                     9|    4|2024|\n",
      "|          7|         Ronnie Hood|Port Gabrielmouth|          B2B|                     8|    5|2024|\n",
      "|          7|         Ronnie Hood|Port Gabrielmouth|          B2B|                     6|    6|2024|\n",
      "|          7|         Ronnie Hood|Port Gabrielmouth|          B2B|                     8|    7|2024|\n",
      "|          7|         Ronnie Hood|Port Gabrielmouth|          B2B|                    12|    8|2024|\n",
      "|          7|         Ronnie Hood|Port Gabrielmouth|          B2B|                     8|    9|2024|\n",
      "|          7|         Ronnie Hood|Port Gabrielmouth|          B2B|                     5|   10|2024|\n",
      "|          9|       Gerald Mercer|     New Michelle|          B2B|                    11|   11|2023|\n",
      "|          9|       Gerald Mercer|     New Michelle|          B2B|                     8|   12|2023|\n",
      "|          9|       Gerald Mercer|     New Michelle|          B2B|                     9|    1|2024|\n",
      "|          9|       Gerald Mercer|     New Michelle|          B2B|                     5|    2|2024|\n",
      "|          9|       Gerald Mercer|     New Michelle|          B2B|                    12|    3|2024|\n",
      "|          9|       Gerald Mercer|     New Michelle|          B2B|                    10|    4|2024|\n",
      "|          9|       Gerald Mercer|     New Michelle|          B2B|                    10|    5|2024|\n",
      "|          9|       Gerald Mercer|     New Michelle|          B2B|                     6|    6|2024|\n",
      "|          9|       Gerald Mercer|     New Michelle|          B2B|                     3|    7|2024|\n",
      "|          9|       Gerald Mercer|     New Michelle|          B2B|                     7|    8|2024|\n",
      "|          9|       Gerald Mercer|     New Michelle|          B2B|                     8|    9|2024|\n",
      "|          9|       Gerald Mercer|     New Michelle|          B2B|                     5|   10|2024|\n",
      "|         12|         Jose Barnes|  New Timothyfort|          B2B|                     8|   11|2023|\n",
      "|         12|         Jose Barnes|  New Timothyfort|          B2B|                    12|   12|2023|\n",
      "|         12|         Jose Barnes|  New Timothyfort|          B2B|                    10|    1|2024|\n",
      "|         12|         Jose Barnes|  New Timothyfort|          B2B|                     7|    2|2024|\n",
      "|         12|         Jose Barnes|  New Timothyfort|          B2B|                    10|    3|2024|\n",
      "|         12|         Jose Barnes|  New Timothyfort|          B2B|                     9|    4|2024|\n",
      "|         12|         Jose Barnes|  New Timothyfort|          B2B|                     9|    5|2024|\n",
      "|         12|         Jose Barnes|  New Timothyfort|          B2B|                     5|    6|2024|\n",
      "|         12|         Jose Barnes|  New Timothyfort|          B2B|                     7|    7|2024|\n",
      "|         12|         Jose Barnes|  New Timothyfort|          B2B|                     7|    8|2024|\n",
      "|         12|         Jose Barnes|  New Timothyfort|          B2B|                     5|    9|2024|\n",
      "|         12|         Jose Barnes|  New Timothyfort|          B2B|                     8|   10|2024|\n",
      "|         14|Christine Strickland|      Danielmouth|          B2B|                    10|   11|2023|\n",
      "|         14|Christine Strickland|      Danielmouth|          B2B|                    13|   12|2023|\n",
      "|         14|Christine Strickland|      Danielmouth|          B2B|                    13|    1|2024|\n",
      "|         14|Christine Strickland|      Danielmouth|          B2B|                    10|    2|2024|\n",
      "|         14|Christine Strickland|      Danielmouth|          B2B|                     6|    3|2024|\n",
      "|         14|Christine Strickland|      Danielmouth|          B2B|                    12|    4|2024|\n",
      "|         14|Christine Strickland|      Danielmouth|          B2B|                     8|    5|2024|\n",
      "|         14|Christine Strickland|      Danielmouth|          B2B|                     9|    6|2024|\n",
      "|         14|Christine Strickland|      Danielmouth|          B2B|                    10|    7|2024|\n",
      "|         14|Christine Strickland|      Danielmouth|          B2B|                     6|    8|2024|\n",
      "|         14|Christine Strickland|      Danielmouth|          B2B|                     6|    9|2024|\n",
      "|         14|Christine Strickland|      Danielmouth|          B2B|                    13|   10|2024|\n",
      "|         15|       Robin Douglas|         Hartfort|          B2B|                     1|   10|2023|\n",
      "|         15|       Robin Douglas|         Hartfort|          B2B|                     7|   11|2023|\n",
      "|         15|       Robin Douglas|         Hartfort|          B2B|                     6|   12|2023|\n",
      "|         15|       Robin Douglas|         Hartfort|          B2B|                     6|    1|2024|\n",
      "|         15|       Robin Douglas|         Hartfort|          B2B|                     9|    2|2024|\n",
      "|         15|       Robin Douglas|         Hartfort|          B2B|                     3|    3|2024|\n",
      "|         15|       Robin Douglas|         Hartfort|          B2B|                    12|    4|2024|\n",
      "|         15|       Robin Douglas|         Hartfort|          B2B|                     7|    5|2024|\n",
      "|         15|       Robin Douglas|         Hartfort|          B2B|                    10|    6|2024|\n",
      "|         15|       Robin Douglas|         Hartfort|          B2B|                    10|    7|2024|\n",
      "|         15|       Robin Douglas|         Hartfort|          B2B|                     9|    8|2024|\n",
      "|         15|       Robin Douglas|         Hartfort|          B2B|                    12|    9|2024|\n",
      "|         15|       Robin Douglas|         Hartfort|          B2B|                     7|   10|2024|\n",
      "|         16|     Timothy Johnson|      Zacharyberg|          B2B|                    10|   11|2023|\n",
      "|         16|     Timothy Johnson|      Zacharyberg|          B2B|                    10|   12|2023|\n",
      "|         16|     Timothy Johnson|      Zacharyberg|          B2B|                     9|    1|2024|\n",
      "|         16|     Timothy Johnson|      Zacharyberg|          B2B|                     9|    2|2024|\n",
      "|         16|     Timothy Johnson|      Zacharyberg|          B2B|                    11|    3|2024|\n",
      "|         16|     Timothy Johnson|      Zacharyberg|          B2B|                     5|    4|2024|\n",
      "|         16|     Timothy Johnson|      Zacharyberg|          B2B|                    12|    5|2024|\n",
      "|         16|     Timothy Johnson|      Zacharyberg|          B2B|                     6|    6|2024|\n",
      "|         16|     Timothy Johnson|      Zacharyberg|          B2B|                     5|    7|2024|\n",
      "|         16|     Timothy Johnson|      Zacharyberg|          B2B|                     8|    8|2024|\n",
      "|         16|     Timothy Johnson|      Zacharyberg|          B2B|                    12|    9|2024|\n",
      "|         16|     Timothy Johnson|      Zacharyberg|          B2B|                    15|   10|2024|\n",
      "|         17|        Debbie Bates|     Jenniferport|          B2B|                     3|   10|2023|\n",
      "|         17|        Debbie Bates|     Jenniferport|          B2B|                    11|   11|2023|\n",
      "|         17|        Debbie Bates|     Jenniferport|          B2B|                     8|   12|2023|\n",
      "|         17|        Debbie Bates|     Jenniferport|          B2B|                     9|    1|2024|\n",
      "|         17|        Debbie Bates|     Jenniferport|          B2B|                    11|    2|2024|\n",
      "|         17|        Debbie Bates|     Jenniferport|          B2B|                    13|    3|2024|\n",
      "|         17|        Debbie Bates|     Jenniferport|          B2B|                    15|    4|2024|\n",
      "|         17|        Debbie Bates|     Jenniferport|          B2B|                    11|    5|2024|\n",
      "|         17|        Debbie Bates|     Jenniferport|          B2B|                     9|    6|2024|\n",
      "|         17|        Debbie Bates|     Jenniferport|          B2B|                     7|    7|2024|\n",
      "|         17|        Debbie Bates|     Jenniferport|          B2B|                     8|    8|2024|\n",
      "|         17|        Debbie Bates|     Jenniferport|          B2B|                    10|    9|2024|\n",
      "|         17|        Debbie Bates|     Jenniferport|          B2B|                     4|   10|2024|\n",
      "|         18|   Michael Carpenter|   Charlesborough|          B2B|                    11|   11|2023|\n",
      "|         18|   Michael Carpenter|   Charlesborough|          B2B|                     7|   12|2023|\n",
      "|         18|   Michael Carpenter|   Charlesborough|          B2B|                     8|    1|2024|\n",
      "|         18|   Michael Carpenter|   Charlesborough|          B2B|                     5|    2|2024|\n",
      "|         18|   Michael Carpenter|   Charlesborough|          B2B|                     9|    3|2024|\n",
      "|         18|   Michael Carpenter|   Charlesborough|          B2B|                    16|    4|2024|\n",
      "|         18|   Michael Carpenter|   Charlesborough|          B2B|                    10|    5|2024|\n",
      "|         18|   Michael Carpenter|   Charlesborough|          B2B|                     8|    6|2024|\n",
      "|         18|   Michael Carpenter|   Charlesborough|          B2B|                    10|    7|2024|\n",
      "|         18|   Michael Carpenter|   Charlesborough|          B2B|                     7|    8|2024|\n",
      "|         18|   Michael Carpenter|   Charlesborough|          B2B|                     4|    9|2024|\n",
      "|         18|   Michael Carpenter|   Charlesborough|          B2B|                     2|   10|2024|\n",
      "|         19|        John Mcclure|      Richardberg|          B2B|                     7|   11|2023|\n",
      "|         19|        John Mcclure|      Richardberg|          B2B|                    13|   12|2023|\n",
      "|         19|        John Mcclure|      Richardberg|          B2B|                     7|    1|2024|\n",
      "|         19|        John Mcclure|      Richardberg|          B2B|                    12|    2|2024|\n",
      "|         19|        John Mcclure|      Richardberg|          B2B|                     6|    3|2024|\n",
      "|         19|        John Mcclure|      Richardberg|          B2B|                     7|    4|2024|\n",
      "|         19|        John Mcclure|      Richardberg|          B2B|                     5|    5|2024|\n",
      "|         19|        John Mcclure|      Richardberg|          B2B|                    14|    6|2024|\n",
      "|         19|        John Mcclure|      Richardberg|          B2B|                    11|    7|2024|\n",
      "|         19|        John Mcclure|      Richardberg|          B2B|                    10|    8|2024|\n",
      "|         19|        John Mcclure|      Richardberg|          B2B|                     7|    9|2024|\n",
      "|         19|        John Mcclure|      Richardberg|          B2B|                     4|   10|2024|\n",
      "|         20|       Paul Cummings| New Samanthaside|          B2B|                    10|   11|2023|\n",
      "|         20|       Paul Cummings| New Samanthaside|          B2B|                     3|   12|2023|\n",
      "|         20|       Paul Cummings| New Samanthaside|          B2B|                    12|    1|2024|\n",
      "|         20|       Paul Cummings| New Samanthaside|          B2B|                     8|    2|2024|\n",
      "|         20|       Paul Cummings| New Samanthaside|          B2B|                    13|    3|2024|\n",
      "|         20|       Paul Cummings| New Samanthaside|          B2B|                     6|    4|2024|\n",
      "|         20|       Paul Cummings| New Samanthaside|          B2B|                    10|    5|2024|\n",
      "|         20|       Paul Cummings| New Samanthaside|          B2B|                     7|    6|2024|\n",
      "|         20|       Paul Cummings| New Samanthaside|          B2B|                     9|    7|2024|\n",
      "|         20|       Paul Cummings| New Samanthaside|          B2B|                    14|    8|2024|\n",
      "|         20|       Paul Cummings| New Samanthaside|          B2B|                     5|    9|2024|\n",
      "|         20|       Paul Cummings| New Samanthaside|          B2B|                    11|   10|2024|\n",
      "|         21|      Michelle Lopez|   New Sherryland|          B2B|                     6|   11|2023|\n",
      "|         21|      Michelle Lopez|   New Sherryland|          B2B|                     6|   12|2023|\n",
      "|         21|      Michelle Lopez|   New Sherryland|          B2B|                     6|    1|2024|\n",
      "+-----------+--------------------+-----------------+-------------+----------------------+-----+----+\n",
      "only showing top 150 rows\n",
      "\n"
     ]
    }
   ],
   "source": [
    "query = \"\"\"\n",
    "SELECT \n",
    "    customer_id,\n",
    "    customer_name, \n",
    "    city,\n",
    "    customer_type,\n",
    "    COUNT(*) AS number_of_transactions,\n",
    "    MONTH(timestamp) AS month,\n",
    "    YEAR(timestamp) AS year\n",
    "FROM ecommerce_data\n",
    "GROUP BY year, month, customer_id, customer_name, city, customer_type\n",
    "ORDER BY customer_type, customer_id , year, month ASC;\n",
    "\"\"\"\n",
    "\n",
    "result = spark.sql(query)\n",
    "print(result.count())\n",
    "result.show(150)\n"
   ]
  },
  {
   "cell_type": "markdown",
   "metadata": {},
   "source": [
    "### Identifying trends in product purchases over time.\n",
    "1. Use CTE to create a temporary view of the data and then run SQL queries against it."
   ]
  },
  {
   "cell_type": "code",
   "execution_count": 30,
   "metadata": {},
   "outputs": [
    {
     "name": "stdout",
     "output_type": "stream",
     "text": [
      "4563\n"
     ]
    }
   ],
   "source": [
    "query = \"\"\"\n",
    "WITH temp_table AS (\n",
    "    SELECT \n",
    "        product_name,\n",
    "        SUM(total_amount) AS total_amount,\n",
    "        MONTH(timestamp) AS month,\n",
    "        YEAR(timestamp) AS year\n",
    "    FROM ecommerce_data\n",
    "    GROUP BY product_name, year, month\n",
    ")\n",
    "\n",
    "SELECT \n",
    "    product_name,\n",
    "    year,\n",
    "    month,\n",
    "    total_amount\n",
    "FROM temp_table\n",
    "ORDER BY product_name, year, month ASC\n",
    "\"\"\"\n",
    "\n",
    "result = spark.sql(query)\n",
    "count_rows = result.count()\n",
    "print(count_rows)\n"
   ]
  },
  {
   "cell_type": "markdown",
   "metadata": {},
   "source": [
    "2. Item names are ordered using human design sorting order.\n",
    "ie \n",
    "- 1 -> 2 -> 3 -> 4 -> 10 -> 11 -> 12 -> 13 -> 14 \n",
    "- instead of \n",
    "- 1 -> 10 -> 11 -> 12 -> 13 -> 14 -> 2 -> 3 -> 4"
   ]
  },
  {
   "cell_type": "code",
   "execution_count": null,
   "metadata": {},
   "outputs": [],
   "source": [
    "query = \"\"\"\n",
    "SELECT \n",
    "    product_name,\n",
    "    SUM(total_amount) AS total_amount,\n",
    "    MONTH(timestamp) AS month,\n",
    "    YEAR(timestamp) AS year\n",
    "FROM ecommerce_data\n",
    "GROUP BY product_name, year, month\n",
    "ORDER BY \n",
    "        CONCAT( REPEAT(  \"0\", 18 - LENGTH( product_name ) ) , product_name ) ASC,\n",
    "        year,\n",
    "        month ASC\n",
    "\"\"\"\n",
    "\n",
    "result = spark.sql(query)\n",
    "count_rows = result.count()\n",
    "print(count_rows)\n",
    "\n",
    "result.show(150, truncate=False)"
   ]
  }
 ],
 "metadata": {
  "kernelspec": {
   "display_name": "Python 3",
   "language": "python",
   "name": "python3"
  },
  "language_info": {
   "codemirror_mode": {
    "name": "ipython",
    "version": 3
   },
   "file_extension": ".py",
   "mimetype": "text/x-python",
   "name": "python",
   "nbconvert_exporter": "python",
   "pygments_lexer": "ipython3",
   "version": "3.11.9"
  }
 },
 "nbformat": 4,
 "nbformat_minor": 2
}
